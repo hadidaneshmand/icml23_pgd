{
  "cells": [
    {
      "cell_type": "code",
      "execution_count": null,
      "metadata": {
        "id": "zUnlM9d2xTCw"
      },
      "outputs": [],
      "source": [
        "# !pip install POT\n",
        "# !ls plots\n",
        "# ####Required liberaries (uncomment to install)\n",
        "# ! pip install seaborn\n",
        "# ! pip install pandas\n",
        "\n",
        "# !mkdir plots\n",
        "from  scipy.optimize import newton\n",
        "import math\n",
        "from google.colab import files\n",
        "import numpy as np\n",
        "import torch\n",
        "import torch.nn as nn\n",
        "from torch.autograd import Variable\n",
        "from scipy import signal\n",
        "import itertools\n",
        "from matplotlib import animation, rc\n",
        "from IPython.display import HTML\n",
        "from matplotlib import pyplot as plt\n",
        "from scipy.special import sici\n",
        "import pandas as pd\n",
        "import seaborn as sns\n",
        "# import ot\n",
        "# font = {'size'   : 12}\n",
        "\n",
        "# matplotlib.rc('font', **font)"
      ]
    },
    {
      "cell_type": "code",
      "source": [
        "# BN without BN\n",
        "n = 10\n",
        "d = 1000\n",
        "\n",
        "eps = 0.000001\n",
        "\n",
        "T = 70\n",
        "c = np.zeros((n,n))\n",
        "repeat = 10\n",
        "\n",
        "\n",
        "def bn(w,x,d): \n",
        "  x = w@x/math.sqrt(d)\n",
        "  x = x-np.mean(x,axis=1).reshape(d,1).repeat(n,1)\n",
        "  xnorm = np.linalg.norm(x,axis=1)\n",
        "  x = ((math.sqrt(n)*x.T)/xnorm).T\n",
        "  # x = np.maximum(x,0)\n",
        "  return x\n",
        "\n",
        "all_results = []\n",
        "results = []\n",
        "\n",
        "print(d,\"----\")\n",
        "dists = []\n",
        "dists2 = []\n",
        "ids = []\n",
        "### covariance of relu \n",
        "c = -1./(n-1)\n",
        "cstar = (math.sqrt(1-c**2)+c*(math.pi-np.arccos(c)))/math.pi\n",
        "C = np.eye(n)#0.5*((1-cstar)*np.eye(n) + cstar*np.ones((n,n)))\n",
        "\n",
        "for k in range(repeat):\n",
        "  r = np.random.randn(n)\n",
        "  x = np.zeros((d,n))\n",
        "  for q in range(d): \n",
        "    x[q,:] = r + eps*np.random.randn(n)\n",
        "  x2 = np.random.randn(d,n)/math.sqrt(d)\n",
        "  for i in range(T):\n",
        "    w = np.random.randn(d,d)/math.sqrt(d)\n",
        "    x = bn(w,x,d)\n",
        "    x2 = w @ x2\n",
        "\n",
        "    if i % 3 ==0:   \n",
        "      dists2.append(np.linalg.norm(x.T@x/d-C))\n",
        "      dists.append(np.linalg.norm(x2.T@x2-np.eye(n)))\n",
        "      ids.append(i)\n",
        "all_results.append(dists)\n",
        "\n",
        "run_dict={'run_id': ids,'dists':dists,'dists2':dists2}\n",
        "results.append(pd.DataFrame(run_dict))\n",
        "results=pd.concat(results)\n"
      ],
      "metadata": {
        "colab": {
          "base_uri": "https://localhost:8080/"
        },
        "id": "szZYLFcGIUVV",
        "outputId": "100d20f1-39bd-4521-dc1a-7abdc6c05d8b"
      },
      "execution_count": null,
      "outputs": [
        {
          "output_type": "stream",
          "name": "stdout",
          "text": [
            "1000 ----\n"
          ]
        }
      ]
    },
    {
      "cell_type": "code",
      "source": [
        "from ssl import PROTOCOL_TLSv1_2\n",
        "p1 = sns.lineplot(data=results,x=\"run_id\",y=\"dists\",  marker = 'o', ci=95,color='blue',label='Without BN')\n",
        "p2 = sns.lineplot(data=results,x=\"run_id\",y=\"dists2\",  marker='s',ci=95,color='red',label='With BN')\n",
        "# p1.set(xlabel='Layer',fontsize=15)\n",
        "# plt.rcParams['text.usetex'] = True\n",
        "p2.set_yscale('log')\n",
        "p1.set_yscale('log')\n",
        "p1.set_xlabel('', fontsize=1)\n",
        "p1.set_ylabel('',fontsize=1)\n",
        "fig = p2.get_figure()\n",
        "fig.savefig('depth_norm.pdf',format='pdf')"
      ],
      "metadata": {
        "colab": {
          "base_uri": "https://localhost:8080/",
          "height": 265
        },
        "id": "2O3dRArbJUsZ",
        "outputId": "28c9ac30-69ca-43b2-8667-9834d7b47882"
      },
      "execution_count": null,
      "outputs": [
        {
          "output_type": "display_data",
          "data": {
            "text/plain": [
              "<Figure size 432x288 with 1 Axes>"
            ],
            "image/png": "[encoded data removed]"
          },
          "metadata": {
            "needs_background": "light"
          }
        }
      ]
    },
    {
      "cell_type": "code",
      "source": [
        "files.download('depth_norm.pdf')"
      ],
      "metadata": {
        "colab": {
          "base_uri": "https://localhost:8080/",
          "height": 17
        },
        "id": "_9L9WLeBNu_t",
        "outputId": "1544243b-9a93-4011-f39f-d9ec2fcfda11"
      },
      "execution_count": null,
      "outputs": [
        {
          "output_type": "display_data",
          "data": {
            "text/plain": [
              "<IPython.core.display.Javascript object>"
            ],
            "application/javascript": [
              "\n",
              "    async function download(id, filename, size) {\n",
              "      if (!google.colab.kernel.accessAllowed) {\n",
              "        return;\n",
              "      }\n",
              "      const div = document.createElement('div');\n",
              "      const label = document.createElement('label');\n",
              "      label.textContent = `Downloading \"${filename}\": `;\n",
              "      div.appendChild(label);\n",
              "      const progress = document.createElement('progress');\n",
              "      progress.max = size;\n",
              "      div.appendChild(progress);\n",
              "      document.body.appendChild(div);\n",
              "\n",
              "      const buffers = [];\n",
              "      let downloaded = 0;\n",
              "\n",
              "      const channel = await google.colab.kernel.comms.open(id);\n",
              "      // Send a message to notify the kernel that we're ready.\n",
              "      channel.send({})\n",
              "\n",
              "      for await (const message of channel.messages) {\n",
              "        // Send a message to notify the kernel that we're ready.\n",
              "        channel.send({})\n",
              "        if (message.buffers) {\n",
              "          for (const buffer of message.buffers) {\n",
              "            buffers.push(buffer);\n",
              "            downloaded += buffer.byteLength;\n",
              "            progress.value = downloaded;\n",
              "          }\n",
              "        }\n",
              "      }\n",
              "      const blob = new Blob(buffers, {type: 'application/binary'});\n",
              "      const a = document.createElement('a');\n",
              "      a.href = window.URL.createObjectURL(blob);\n",
              "      a.download = filename;\n",
              "      div.appendChild(a);\n",
              "      a.click();\n",
              "      div.remove();\n",
              "    }\n",
              "  "
            ]
          },
          "metadata": {}
        },
        {
          "output_type": "display_data",
          "data": {
            "text/plain": [
              "<IPython.core.display.Javascript object>"
            ],
            "application/javascript": [
              "download(\"download_d17a9901-c9cf-4e72-80ab-74c34606b435\", \"depth_norm.pdf\", 10966)"
            ]
          },
          "metadata": {}
        }
      ]
    },
    {
      "cell_type": "code",
      "source": [
        "n = 10\n",
        "d = 1000\n",
        "\n",
        "eps = 0.000001\n",
        "\n",
        "\n",
        "c = np.zeros((n,n))\n",
        "repeat = 10\n",
        "\n",
        "\n",
        "def bn(w,x,d): \n",
        "  x = w@x/math.sqrt(d)\n",
        "  x = x-np.mean(x,axis=1).reshape(d,1).repeat(n,1)\n",
        "  xnorm = np.linalg.norm(x,axis=1)\n",
        "  x = ((math.sqrt(n)*x.T)/xnorm).T\n",
        "  x = np.maximum(x,0)\n",
        "  return x\n",
        "ds = [4,8,16,32,64,128,256]\n",
        "experiments = []\n",
        "theory = []\n",
        "results = []\n",
        "ids = []\n",
        "for d in ds:\n",
        "  print(d,\"----\")\n",
        "  \n",
        "  ### covariance of relu \n",
        "  c = -1./(n-1)\n",
        "  cstar = (math.sqrt(1-c**2)+c*(math.pi-np.arccos(c)))/math.pi\n",
        "  C = 0.5*((1-cstar)*np.eye(n) + cstar*np.ones((n,n)))\n",
        "  \n",
        "  for k in range(repeat):\n",
        "    r = np.random.randn(n)\n",
        "    x = np.zeros((d,n))\n",
        "    for q in range(d): \n",
        "      x[q,:] = r + eps*np.random.randn(n)\n",
        "    x2 = np.random.randn(d,n)\n",
        "    avg_dist = 0 \n",
        "    num_dist = 0 \n",
        "    T = 600\n",
        "    for i in range(T):\n",
        "      w = np.random.randn(d,d)/math.sqrt(d)\n",
        "      x = bn(w,x,d)\n",
        "      \n",
        "  \n",
        "      if i > 40:\n",
        "        avg_dist =+ np.linalg.norm(x.T@x/d-C)\n",
        "        num_dist =+ 1\n",
        "        # print(k,i, np.linalg.norm(x.T@x/d-x2.T@x2/d,ord=2))\n",
        "        # dists.append()\n",
        "    ids.append(d)\n",
        "    experiments.append(avg_dist/float(num_dist))\n",
        "    theory.append(2*n/math.sqrt(d))\n",
        "\n"
      ],
      "metadata": {
        "colab": {
          "base_uri": "https://localhost:8080/"
        },
        "id": "vprJstubHLXx",
        "outputId": "7d1b7e80-c1f1-4a9b-fcb0-8057be9072d5"
      },
      "execution_count": null,
      "outputs": [
        {
          "output_type": "stream",
          "name": "stdout",
          "text": [
            "4 ----\n",
            "8 ----\n",
            "16 ----\n",
            "32 ----\n",
            "64 ----\n",
            "128 ----\n",
            "256 ----\n"
          ]
        }
      ]
    },
    {
      "cell_type": "code",
      "source": [
        "results = []\n",
        "run_dict={'run_id': ids,'experiments':experiments, 'theory':theory}\n",
        "results.append(pd.DataFrame(run_dict))\n",
        "results=pd.concat(results)\n",
        "from ssl import PROTOCOL_TLSv1_2\n",
        "p1 = sns.lineplot(data=results,x=\"run_id\",y=\"experiments\",  marker = 'o', ci=95,color='blue')\n",
        "p2 = sns.lineplot(data=results,x=\"run_id\",y=\"theory\", linestyle='--',ci=95,color='red')\n",
        "# p1.set(xlabel='Layer',fontsize=15)\n",
        "p1.set_xscale('log')\n",
        "p1.set_yscale('log')\n",
        "p1.set_xlabel('', fontsize=12)\n",
        "p1.set_ylabel('',fontsize=12)\n",
        "fig = p2.get_figure()\n",
        "fig.savefig('depth_norm.pdf',format='pdf')"
      ],
      "metadata": {
        "colab": {
          "base_uri": "https://localhost:8080/",
          "height": 269
        },
        "id": "nPf84kKVHmLW",
        "outputId": "de5544fe-1c72-4f17-f6b0-93ebfe7316d0"
      },
      "execution_count": null,
      "outputs": [
        {
          "output_type": "display_data",
          "data": {
            "text/plain": [
              "<Figure size 432x288 with 1 Axes>"
            ],
            "image/png": "[encoded data removed]"
          },
          "metadata": {
            "needs_background": "light"
          }
        }
      ]
    },
    {
      "cell_type": "code",
      "source": [
        "files.download('depth_norm.pdf')"
      ],
      "metadata": {
        "colab": {
          "base_uri": "https://localhost:8080/",
          "height": 17
        },
        "id": "l_0YWJjqXEnM",
        "outputId": "2b7699c6-db46-434d-b4be-89e3591dd242"
      },
      "execution_count": null,
      "outputs": [
        {
          "output_type": "display_data",
          "data": {
            "text/plain": [
              "<IPython.core.display.Javascript object>"
            ],
            "application/javascript": [
              "\n",
              "    async function download(id, filename, size) {\n",
              "      if (!google.colab.kernel.accessAllowed) {\n",
              "        return;\n",
              "      }\n",
              "      const div = document.createElement('div');\n",
              "      const label = document.createElement('label');\n",
              "      label.textContent = `Downloading \"${filename}\": `;\n",
              "      div.appendChild(label);\n",
              "      const progress = document.createElement('progress');\n",
              "      progress.max = size;\n",
              "      div.appendChild(progress);\n",
              "      document.body.appendChild(div);\n",
              "\n",
              "      const buffers = [];\n",
              "      let downloaded = 0;\n",
              "\n",
              "      const channel = await google.colab.kernel.comms.open(id);\n",
              "      // Send a message to notify the kernel that we're ready.\n",
              "      channel.send({})\n",
              "\n",
              "      for await (const message of channel.messages) {\n",
              "        // Send a message to notify the kernel that we're ready.\n",
              "        channel.send({})\n",
              "        if (message.buffers) {\n",
              "          for (const buffer of message.buffers) {\n",
              "            buffers.push(buffer);\n",
              "            downloaded += buffer.byteLength;\n",
              "            progress.value = downloaded;\n",
              "          }\n",
              "        }\n",
              "      }\n",
              "      const blob = new Blob(buffers, {type: 'application/binary'});\n",
              "      const a = document.createElement('a');\n",
              "      a.href = window.URL.createObjectURL(blob);\n",
              "      a.download = filename;\n",
              "      div.appendChild(a);\n",
              "      a.click();\n",
              "      div.remove();\n",
              "    }\n",
              "  "
            ]
          },
          "metadata": {}
        },
        {
          "output_type": "display_data",
          "data": {
            "text/plain": [
              "<IPython.core.display.Javascript object>"
            ],
            "application/javascript": [
              "download(\"download_8481e7bc-fe01-4764-949c-99d17dc0bdc0\", \"depth_norm.pdf\", 5234)"
            ]
          },
          "metadata": {}
        }
      ]
    },
    {
      "cell_type": "code",
      "execution_count": null,
      "metadata": {
        "colab": {
          "base_uri": "https://localhost:8080/"
        },
        "id": "31GadxkjxWrY",
        "outputId": "30f3655c-54dc-4c7b-9ada-f19752544182"
      },
      "outputs": [
        {
          "output_type": "stream",
          "name": "stdout",
          "text": [
            "0 0 2.5517675088965563\n",
            "0 10 1.6444079027324527\n",
            "0 20 0.6685879412645241\n",
            "0 30 0.14120283078952042\n",
            "0 40 0.1389500148807087\n",
            "0 50 0.17455330796578428\n",
            "0 60 0.15278895325719782\n",
            "0 70 0.16008092327892612\n",
            "0 80 0.2141489722466586\n",
            "0 90 0.14054752468726886\n",
            "1 0 3.6605545986692936\n",
            "1 10 2.115321643890389\n",
            "1 20 0.8112025032909448\n",
            "1 30 0.2390186299280166\n",
            "1 40 0.18055794796853186\n",
            "1 50 0.17930306512355648\n",
            "1 60 0.1522589297729722\n",
            "1 70 0.14199291388927143\n",
            "1 80 0.15707960942715826\n",
            "1 90 0.1306723044853071\n",
            "2 0 3.398155757782797\n",
            "2 10 1.7874728723019748\n",
            "2 20 0.6538670606848977\n",
            "2 30 0.21164648389429191\n",
            "2 40 0.1554581907715872\n",
            "2 50 0.14771175651597726\n",
            "2 60 0.13682391391943272\n",
            "2 70 0.12792005332492346\n",
            "2 80 0.1446211849887165\n",
            "2 90 0.15574229057040712\n",
            "3 0 3.3537613744038226\n",
            "3 10 1.8758074283094417\n",
            "3 20 0.8267817800882417\n",
            "3 30 0.3761048782105268\n",
            "3 40 0.18299916694120247\n",
            "3 50 0.17113454946692974\n",
            "3 60 0.12296350757905174\n",
            "3 70 0.11593020226585977\n",
            "3 80 0.1632275150380966\n",
            "3 90 0.13933092316191661\n",
            "4 0 4.213021016675296\n",
            "4 10 1.8039458628606249\n",
            "4 20 0.6814595084051553\n",
            "4 30 0.198481973607351\n",
            "4 40 0.14531958336842765\n",
            "4 50 0.13886997863876713\n",
            "4 60 0.1648301033833069\n",
            "4 70 0.15156286609650296\n",
            "4 80 0.15766431013165222\n",
            "4 90 0.14078399196835267\n",
            "5 0 3.9338406174445737\n",
            "5 10 1.633005017402112\n",
            "5 20 0.5848059047681358\n",
            "5 30 0.27523128858350815\n",
            "5 40 0.1675082730450479\n",
            "5 50 0.164927341310987\n",
            "5 60 0.1343216476516799\n",
            "5 70 0.1403515538221256\n",
            "5 80 0.1456479263014713\n",
            "5 90 0.17489502212516356\n",
            "6 0 2.7473650334613833\n",
            "6 10 1.5321713831144197\n",
            "6 20 0.979072483845881\n",
            "6 30 0.36638229102315034\n",
            "6 40 0.17570104899696212\n",
            "6 50 0.13975759690917633\n",
            "6 60 0.15742368067351153\n",
            "6 70 0.15132250298759367\n",
            "6 80 0.1538434649828589\n",
            "6 90 0.18604802644071197\n",
            "7 0 4.307531104036188\n",
            "7 10 1.5185282163718488\n",
            "7 20 0.37890676405781787\n",
            "7 30 0.14137550761892884\n",
            "7 40 0.16893149860241974\n",
            "7 50 0.1725686498493177\n",
            "7 60 0.130654664299772\n",
            "7 70 0.16207180840919405\n",
            "7 80 0.15767839701233027\n",
            "7 90 0.1686072000858855\n",
            "8 0 3.5562546824326344\n",
            "8 10 1.762933864145795\n",
            "8 20 0.369755214410097\n",
            "8 30 0.14731372940027265\n",
            "8 40 0.14774991164920637\n",
            "8 50 0.1381943877104141\n",
            "8 60 0.17639155814613836\n",
            "8 70 0.15961906533195572\n",
            "8 80 0.15095659284623142\n",
            "8 90 0.15692429947103634\n",
            "9 0 3.5921339441041944\n",
            "9 10 1.8351728380102728\n",
            "9 20 0.48766760453239233\n",
            "9 30 0.15795654537525705\n",
            "9 40 0.14513332583774202\n",
            "9 50 0.1713513807111205\n",
            "9 60 0.1586990427834681\n",
            "9 70 0.17572521568662933\n",
            "9 80 0.1710319122975173\n",
            "9 90 0.17098055089692774\n"
          ]
        }
      ],
      "source": [
        "n = 10\n",
        "d = 1000\n",
        "\n",
        "x = np.zeros((d,n))\n",
        "eps = 0.000001\n",
        "\n",
        "x1 = np.random.randn(100000,n)\n",
        "x1norm = np.linalg.norm(x1,axis=1)\n",
        "x1 = ((math.sqrt(n)*x1.T)/x1norm).T\n",
        "Beta = np.mean(np.tanh(x1[:,0])**2)\n",
        "Beta1 = np.mean(np.sin(x1[:,0])**2)\n",
        "T = 100\n",
        "c = np.zeros((n,n))\n",
        "repeat = 10\n",
        "convs = np.zeros((10,repeat))\n",
        "results = []\n",
        "ids = []\n",
        "dists = []\n",
        "dists2 = []\n",
        "### covariance of relu\n",
        "\n",
        "for k in range(repeat):\n",
        "  r = np.random.randn(n)\n",
        "  for i in range(d): \n",
        "   x[i,:] = r + eps*np.random.randn(n)\n",
        "  x2 = x.copy()\n",
        "  for i in range(T):\n",
        "    w = np.random.randn(d,d)/math.sqrt(d)\n",
        "    xnorm = np.linalg.norm(x,axis=1)\n",
        "    x = ((math.sqrt(n)*x.T)/xnorm).T\n",
        "    x = np.tanh(x)\n",
        "    x = w@x/math.sqrt(d)\n",
        "\n",
        "    x2norm = np.linalg.norm(x2,axis=1)\n",
        "    x2 = ((math.sqrt(n)*x2.T)/x2norm).T\n",
        "    x2 = np.sin(x2)\n",
        "    x2 = w@x2/math.sqrt(d)\n",
        "\n",
        "    c = c + x.T@x/T\n",
        "    if i % 10 ==0:\n",
        "      convs[int(i/10),k] = np.linalg.norm(x.T@x-Beta*np.eye(n))\n",
        "      print(k,i, np.linalg.norm(x.T@x-Beta*np.eye(n),ord=2))\n",
        "      dists.append(np.linalg.norm(x.T@x-Beta*np.eye(n),ord=2))\n",
        "      dists2.append(np.linalg.norm(x2.T@x2-Beta1*np.eye(n),ord=2))\n",
        "      ids.append(i)\n",
        "\n",
        "run_dict={'run_id': ids,'dists':np.log(dists),'dists2':np.log(dists2)}\n",
        "results.append(pd.DataFrame(run_dict))\n",
        "results=pd.concat(results)\n"
      ]
    },
    {
      "cell_type": "code",
      "source": [
        "# contracting grams \n",
        "n = 10\n",
        "d = 1000\n",
        "\n",
        "eps = 0.000001\n",
        "\n",
        "T = 70\n",
        "c = np.zeros((n,n))\n",
        "repeat = 10\n",
        "\n",
        "\n",
        "def bn(w,x,d): \n",
        "  x = w@x/math.sqrt(d)\n",
        "  x = x-np.mean(x,axis=1).reshape(d,1).repeat(n,1)\n",
        "  xnorm = np.linalg.norm(x,axis=1)\n",
        "  x = ((math.sqrt(n)*x.T)/xnorm).T\n",
        "  x = np.maximum(x,0)\n",
        "  return x\n",
        "ds = [100,1000]\n",
        "all_results = []\n",
        "results = []\n",
        "for d in ds:\n",
        "  print(d,\"----\")\n",
        "  dists = []\n",
        "  ids = []\n",
        "  for k in range(repeat):\n",
        "    r = np.random.randn(n)\n",
        "    x = np.zeros((d,n))\n",
        "    for q in range(d): \n",
        "      x[q,:] = r + eps*np.random.randn(n)\n",
        "    x2 = np.random.randn(d,n)\n",
        "    for i in range(T):\n",
        "      w = np.random.randn(d,d)/math.sqrt(d)\n",
        "      x = bn(w,x,d)\n",
        "      x2 = bn(w,x2,d)\n",
        "  \n",
        "      if i % 3 ==0:\n",
        "        \n",
        "        # print(k,i, np.linalg.norm(x.T@x/d-x2.T@x2/d,ord=2))\n",
        "        dists.append(np.linalg.norm(x.T@x/d-x2.T@x2/d,ord=2))\n",
        "        ids.append(i)\n",
        "  all_results.append(dists)\n",
        "\n",
        "run_dict={'run_id': ids,'dists':np.log(all_results[0]),'dists2':np.log(all_results[1])}\n",
        "results.append(pd.DataFrame(run_dict))\n",
        "results=pd.concat(results)\n"
      ],
      "metadata": {
        "colab": {
          "base_uri": "https://localhost:8080/"
        },
        "id": "r289B_ftyl42",
        "outputId": "eb81341d-3d1e-486f-dfec-d28336b08935"
      },
      "execution_count": null,
      "outputs": [
        {
          "output_type": "stream",
          "name": "stdout",
          "text": [
            "100 ----\n",
            "1000 ----\n"
          ]
        }
      ]
    },
    {
      "cell_type": "code",
      "source": [
        "from ssl import PROTOCOL_TLSv1_2\n",
        "p1 = sns.lineplot(data=results,x=\"run_id\",y=\"dists\",  marker = 'o', ci=95,color='blue',label='width=100')\n",
        "p2 = sns.lineplot(data=results,x=\"run_id\",y=\"dists2\",  marker='s',ci=95,color='red',label='width=1000')\n",
        "# p1.set(xlabel='Layer',fontsize=15)\n",
        "p1.set_xlabel('#Layer', fontsize=12)\n",
        "p1.set_ylabel('Log(Frobenius Distance)',fontsize=12)\n",
        "fig = p2.get_figure()\n",
        "fig.savefig('depth_norm.pdf',format='pdf')"
      ],
      "metadata": {
        "colab": {
          "base_uri": "https://localhost:8080/",
          "height": 282
        },
        "id": "jeXTuyxd1tBq",
        "outputId": "7b0ca574-6ae3-4bcf-86c9-19715469e7ae"
      },
      "execution_count": null,
      "outputs": [
        {
          "output_type": "display_data",
          "data": {
            "text/plain": [
              "<Figure size 432x288 with 1 Axes>"
            ],
            "image/png": "[encoded data removed]"
          },
          "metadata": {
            "needs_background": "light"
          }
        }
      ]
    },
    {
      "cell_type": "code",
      "source": [
        "files.download('depth_norm.pdf')"
      ],
      "metadata": {
        "colab": {
          "base_uri": "https://localhost:8080/",
          "height": 17
        },
        "id": "K8paXZMK-zWO",
        "outputId": "85c687cb-429d-49e8-83b1-7e4a2800e5d7"
      },
      "execution_count": null,
      "outputs": [
        {
          "output_type": "display_data",
          "data": {
            "text/plain": [
              "<IPython.core.display.Javascript object>"
            ],
            "application/javascript": [
              "\n",
              "    async function download(id, filename, size) {\n",
              "      if (!google.colab.kernel.accessAllowed) {\n",
              "        return;\n",
              "      }\n",
              "      const div = document.createElement('div');\n",
              "      const label = document.createElement('label');\n",
              "      label.textContent = `Downloading \"${filename}\": `;\n",
              "      div.appendChild(label);\n",
              "      const progress = document.createElement('progress');\n",
              "      progress.max = size;\n",
              "      div.appendChild(progress);\n",
              "      document.body.appendChild(div);\n",
              "\n",
              "      const buffers = [];\n",
              "      let downloaded = 0;\n",
              "\n",
              "      const channel = await google.colab.kernel.comms.open(id);\n",
              "      // Send a message to notify the kernel that we're ready.\n",
              "      channel.send({})\n",
              "\n",
              "      for await (const message of channel.messages) {\n",
              "        // Send a message to notify the kernel that we're ready.\n",
              "        channel.send({})\n",
              "        if (message.buffers) {\n",
              "          for (const buffer of message.buffers) {\n",
              "            buffers.push(buffer);\n",
              "            downloaded += buffer.byteLength;\n",
              "            progress.value = downloaded;\n",
              "          }\n",
              "        }\n",
              "      }\n",
              "      const blob = new Blob(buffers, {type: 'application/binary'});\n",
              "      const a = document.createElement('a');\n",
              "      a.href = window.URL.createObjectURL(blob);\n",
              "      a.download = filename;\n",
              "      div.appendChild(a);\n",
              "      a.click();\n",
              "      div.remove();\n",
              "    }\n",
              "  "
            ]
          },
          "metadata": {}
        },
        {
          "output_type": "display_data",
          "data": {
            "text/plain": [
              "<IPython.core.display.Javascript object>"
            ],
            "application/javascript": [
              "download(\"download_ce121816-4071-467b-8636-0f7d37da61c2\", \"depth_norm.pdf\", 15936)"
            ]
          },
          "metadata": {}
        }
      ]
    },
    {
      "cell_type": "code",
      "source": [
        "n = 10\n",
        "ds = [50,400,800,1200,1600,2000]\n",
        "\n",
        "\n",
        "eps = 0.000001\n",
        "\n",
        "x1 = np.random.randn(100000,n)\n",
        "x1norm = np.linalg.norm(x1,axis=1)\n",
        "x1 = ((math.sqrt(n)*x1.T)/x1norm).T\n",
        "Beta = np.mean(np.sin(x1[:,0])**2)\n",
        "\n",
        "\n",
        "repeat = 2\n",
        "convs = np.zeros((10,repeat))\n",
        "results = []\n",
        "ids = []\n",
        "dists = []\n",
        "dists2 = []\n",
        "dists3 = []\n",
        "for k in range(repeat):\n",
        "  print(k)\n",
        "  for d in ds:\n",
        "    avgerror = 0\n",
        "    avgerror2 = 0\n",
        "    x = np.zeros((d,n))\n",
        "    r = np.random.randn(n)\n",
        "    for i in range(d): \n",
        "      x[i,:] = r + eps*np.random.randn(n)\n",
        "    x2 = x.copy()\n",
        "    T = 100\n",
        "    for i in range(T):\n",
        "      w = np.random.randn(d,d)/math.sqrt(d)\n",
        "      xnorm = np.linalg.norm(x,axis=1)\n",
        "      x = ((math.sqrt(n)*x.T)/xnorm).T\n",
        "      x = np.tanh(x)\n",
        "      x = w@x/math.sqrt(d)\n",
        "\n",
        "      x2norm = np.linalg.norm(x2,axis=1)\n",
        "      x2 = ((math.sqrt(n)*x2.T)/x2norm).T\n",
        "      x2 = np.sin(x2)\n",
        "      x2 = w@x2/math.sqrt(d)\n",
        "    dists.append(np.log(np.linalg.norm(x.T@x-Beta*np.eye(n),ord = 2)))\n",
        "    dists2.append(np.log(np.linalg.norm(x2.T@x2-Beta1*np.eye(n),ord =2)/(T-49)))\n",
        "    dists3.append(np.log(n**(1.5)/np.sqrt(d)))\n",
        "    ids.append(np.log(d))\n",
        "\n",
        "run_dict={'run_id': ids,'dists':dists,'dists2':dists2,'dists3':dists3}\n",
        "results.append(pd.DataFrame(run_dict))\n",
        "results=pd.concat(results)\n"
      ],
      "metadata": {
        "colab": {
          "base_uri": "https://localhost:8080/"
        },
        "id": "NH6Ez3rQ2Mv3",
        "outputId": "01318091-81fc-41bd-f890-a76603a303dd"
      },
      "execution_count": null,
      "outputs": [
        {
          "output_type": "stream",
          "name": "stdout",
          "text": [
            "0\n",
            "1\n"
          ]
        }
      ]
    },
    {
      "cell_type": "code",
      "source": [
        "dists2"
      ],
      "metadata": {
        "colab": {
          "base_uri": "https://localhost:8080/"
        },
        "id": "c2Tqi2hOJbFJ",
        "outputId": "21f6014f-bb83-49b6-f2f6-10b3a5f45785"
      },
      "execution_count": null,
      "outputs": [
        {
          "output_type": "execute_result",
          "data": {
            "text/plain": [
              "[-3.881100418981015,\n",
              " -4.8604127880254655,\n",
              " -5.5337839313751775,\n",
              " -5.614624828990853,\n",
              " -6.051075135214181,\n",
              " -6.243816106218588,\n",
              " -3.580518794421464,\n",
              " -5.336100665859407,\n",
              " -5.7398532979061,\n",
              " -5.902176717098442,\n",
              " -6.038259509178587,\n",
              " -6.305405424700367]"
            ]
          },
          "metadata": {},
          "execution_count": 121
        }
      ]
    },
    {
      "cell_type": "code",
      "execution_count": null,
      "metadata": {
        "colab": {
          "base_uri": "https://localhost:8080/",
          "height": 284
        },
        "id": "84EHo6Y-4lID",
        "outputId": "7f2d698c-6485-4903-e0c1-41e812d84918"
      },
      "outputs": [
        {
          "output_type": "display_data",
          "data": {
            "text/plain": [
              "<Figure size 432x288 with 1 Axes>"
            ],
            "image/png": "[encoded data removed]"
          },
          "metadata": {
            "needs_background": "light"
          }
        }
      ],
      "source": [
        "# from ssl import PROTOCOL_TLSv1_2\n",
        "# run_dict[\"dists3\"] = 10+np.asarray(run_dict[\"dists3\"])\n",
        "p1 = sns.lineplot(data=results,x=\"run_id\",y=\"dists\",  marker = 'o', ci=95,color='blue',label='tanh')\n",
        "p2 = sns.lineplot(data=results,x=\"run_id\",y=\"dists2\",  marker='s',ci=95,color='red',label='sin')\n",
        "p3 = sns.lineplot(data=results,x=\"run_id\",y=\"dists3\", ci=95,color='black',label='batachsize**(1.5)/width**(0.5)',linestyle='--')\n",
        "# p1.set(xlabel='Layer',fontsize=15)\n",
        "# p1.set(xlabel='Layer',fontsize=15)\n",
        "p1.set_xlabel('Log(Layer)', fontsize=15)\n",
        "p1.set_ylabel('Log(Frobenius Norm)',fontsize=15)\n",
        "fig = p3.get_figure()\n",
        "fig.savefig('width_norm.pdf',format='pdf')"
      ]
    },
    {
      "cell_type": "code",
      "execution_count": null,
      "metadata": {
        "colab": {
          "base_uri": "https://localhost:8080/",
          "height": 17
        },
        "id": "MqjvZliV4qqv",
        "outputId": "a2bc5985-9521-4464-f43f-afc35a79b912"
      },
      "outputs": [
        {
          "output_type": "display_data",
          "data": {
            "text/plain": [
              "<IPython.core.display.Javascript object>"
            ],
            "application/javascript": [
              "\n",
              "    async function download(id, filename, size) {\n",
              "      if (!google.colab.kernel.accessAllowed) {\n",
              "        return;\n",
              "      }\n",
              "      const div = document.createElement('div');\n",
              "      const label = document.createElement('label');\n",
              "      label.textContent = `Downloading \"${filename}\": `;\n",
              "      div.appendChild(label);\n",
              "      const progress = document.createElement('progress');\n",
              "      progress.max = size;\n",
              "      div.appendChild(progress);\n",
              "      document.body.appendChild(div);\n",
              "\n",
              "      const buffers = [];\n",
              "      let downloaded = 0;\n",
              "\n",
              "      const channel = await google.colab.kernel.comms.open(id);\n",
              "      // Send a message to notify the kernel that we're ready.\n",
              "      channel.send({})\n",
              "\n",
              "      for await (const message of channel.messages) {\n",
              "        // Send a message to notify the kernel that we're ready.\n",
              "        channel.send({})\n",
              "        if (message.buffers) {\n",
              "          for (const buffer of message.buffers) {\n",
              "            buffers.push(buffer);\n",
              "            downloaded += buffer.byteLength;\n",
              "            progress.value = downloaded;\n",
              "          }\n",
              "        }\n",
              "      }\n",
              "      const blob = new Blob(buffers, {type: 'application/binary'});\n",
              "      const a = document.createElement('a');\n",
              "      a.href = window.URL.createObjectURL(blob);\n",
              "      a.download = filename;\n",
              "      div.appendChild(a);\n",
              "      a.click();\n",
              "      div.remove();\n",
              "    }\n",
              "  "
            ]
          },
          "metadata": {}
        },
        {
          "output_type": "display_data",
          "data": {
            "text/plain": [
              "<IPython.core.display.Javascript object>"
            ],
            "application/javascript": [
              "download(\"download_ad214979-a8ef-4c0d-ad87-6f3575b00a8d\", \"width_norm.pdf\", 15263)"
            ]
          },
          "metadata": {}
        }
      ],
      "source": [
        "files.download('width_norm.pdf')"
      ]
    },
    {
      "cell_type": "code",
      "execution_count": null,
      "metadata": {
        "id": "xXCRH6z-_Ryi"
      },
      "outputs": [],
      "source": []
    }
  ],
  "metadata": {
    "colab": {
      "provenance": []
    },
    "kernelspec": {
      "display_name": "Python 3",
      "name": "python3"
    },
    "language_info": {
      "name": "python"
    }
  },
  "nbformat": 4,
  "nbformat_minor": 0
}